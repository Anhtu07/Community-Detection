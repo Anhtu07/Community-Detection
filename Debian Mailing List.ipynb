{
 "cells": [
  {
   "cell_type": "markdown",
   "metadata": {},
   "source": [
    "# Process Data"
   ]
  },
  {
   "cell_type": "code",
   "execution_count": 1,
   "metadata": {},
   "outputs": [],
   "source": [
    "import pandas as pd\n",
    "debian_mailing_list = pd.read_csv(\"./debian-user-filtered.dat\", header = None)"
   ]
  },
  {
   "cell_type": "code",
   "execution_count": 2,
   "metadata": {},
   "outputs": [],
   "source": [
    "processed_dml = []\n",
    "for items in debian_mailing_list[0]:\n",
    "    link = [int(s) for s in items.split(\" \")]\n",
    "    processed_dml.append(link)"
   ]
  },
  {
   "cell_type": "code",
   "execution_count": 3,
   "metadata": {},
   "outputs": [],
   "source": [
    "threads_dict = {}\n",
    "for link in processed_dml:\n",
    "    thread_id = link[4]\n",
    "    if thread_id not in threads_dict:\n",
    "        threads_dict.update({thread_id : [link[0:5]]})\n",
    "    else:\n",
    "        threads_dict[thread_id].append(link[0:5])"
   ]
  },
  {
   "cell_type": "code",
   "execution_count": 4,
   "metadata": {},
   "outputs": [],
   "source": [
    "initial_time = processed_dml[0][0]\n",
    "current_time = initial_time\n",
    "interval = 2880 #mimutes\n",
    "temporal_graph = {}\n",
    "i = 0\n",
    "for link in processed_dml:\n",
    "    time_stamp = link[0]\n",
    "    if time_stamp >= current_time and time_stamp <= current_time + interval*60:\n",
    "        if i not in temporal_graph:\n",
    "            temporal_graph.update({i : [link[1:3]]})\n",
    "        else:\n",
    "            temporal_graph[i].append(link[1:3])\n",
    "    else:\n",
    "        i = i + 1\n",
    "        current_time = time_stamp\n",
    "        if i not in temporal_graph:\n",
    "            temporal_graph.update({i : [link[1:3]]})\n",
    "        else:\n",
    "            temproal_graph[i].append(link[1:3])"
   ]
  },
  {
   "cell_type": "code",
   "execution_count": 5,
   "metadata": {},
   "outputs": [],
   "source": [
    "import random\n",
    "char_set = ['0','1','2','3','4','5','6','7','8','9','A','B','C','D','E','F']\n",
    "color_set = []\n",
    "\n",
    "for i in range(1000):\n",
    "    color_code = '#'\n",
    "    for j in range(6):\n",
    "        index = random.randint(0, 15)\n",
    "        color_code += char_set[index]\n",
    "    if color_code not in color_set:\n",
    "        color_set.append(color_code)"
   ]
  },
  {
   "cell_type": "markdown",
   "metadata": {},
   "source": [
    "# Louvain for each snapshot"
   ]
  },
  {
   "cell_type": "code",
   "execution_count": 6,
   "metadata": {},
   "outputs": [],
   "source": [
    "import community\n",
    "import networkx as nx\n",
    "import matplotlib.pyplot as plt\n",
    "def snapshot(edge_list):\n",
    "    G = nx.Graph()\n",
    "    #add nodes\n",
    "    node_list = []\n",
    "    for edge in edge_list:\n",
    "        for node in edge:\n",
    "            if node not in node_list:\n",
    "                node_list.append(node)\n",
    "    G.add_nodes_from(node_list)\n",
    "    \n",
    "    #add edges\n",
    "    G.add_edges_from(edge_list)\n",
    "    return G"
   ]
  },
  {
   "cell_type": "code",
   "execution_count": 7,
   "metadata": {},
   "outputs": [
    {
     "name": "stderr",
     "output_type": "stream",
     "text": [
      "C:\\Users\\tungu\\Anaconda3\\lib\\site-packages\\networkx\\drawing\\nx_pylab.py:611: MatplotlibDeprecationWarning: isinstance(..., numbers.Number)\n",
      "  if cb.is_numlike(alpha):\n"
     ]
    },
    {
     "data": {
      "image/png": "[encoded data removed]",
      "text/plain": [
       "<Figure size 432x288 with 1 Axes>"
      ]
     },
     "metadata": {
      "needs_background": "light"
     },
     "output_type": "display_data"
    }
   ],
   "source": [
    "%matplotlib inline\n",
    "\n",
    "edge_list = temporal_graph[3201]\n",
    "G = nx.Graph()\n",
    "#add nodes\n",
    "node_list = []\n",
    "for edge in edge_list:\n",
    "    for node in edge:\n",
    "        if node not in node_list:\n",
    "            node_list.append(node)\n",
    "G.add_nodes_from(node_list)\n",
    "\n",
    "#add edges\n",
    "G.add_edges_from(edge_list)\n",
    "\n",
    "#first compute the best partition\n",
    "partition = community.best_partition(G)\n",
    "\n",
    "#drawing\n",
    "size = float(len(set(partition.values())))\n",
    "pos = nx.spring_layout(G)\n",
    "count = 0\n",
    "for com in set(partition.values()) :\n",
    "    list_nodes = [nodes for nodes in partition.keys()\n",
    "                                if partition[nodes] == com]\n",
    "    nx.draw_networkx_nodes(G, pos, list_nodes, node_size = 20,\n",
    "                                node_color = color_set[count])\n",
    "    count = count + 1\n",
    "\n",
    "\n",
    "nx.draw_networkx_edges(G, pos, alpha=0.5)\n",
    "plt.show()"
   ]
  },
  {
   "cell_type": "markdown",
   "metadata": {},
   "source": [
    "# Link Stream (First Attempt)"
   ]
  },
  {
   "cell_type": "code",
   "execution_count": 8,
   "metadata": {},
   "outputs": [],
   "source": [
    "import math\n",
    "def sort(l):\n",
    "    a = l[0]\n",
    "    b = l[1]\n",
    "    if a < b:\n",
    "        return [a,b]\n",
    "    else:\n",
    "        return [b,a]\n",
    "    \n",
    "time_step = 24 * 60 * 7 #minutes\n",
    "\n",
    "class LinkStream:\n",
    "    def __init__(self, vertices = set(), links=[]):\n",
    "        self.vertices = vertices\n",
    "        self.links = links\n",
    "        self.hard_temporal_graph = {}\n",
    "        self.weighted_temporal_graph = {}\n",
    "        self.partition = []\n",
    "        self.init_time = 0\n",
    "        self.finial_time = 0\n",
    "        \n",
    "    def construct_from_threads(self, threads):\n",
    "        self.vertices = []\n",
    "        self.links = []\n",
    "        for thread in threads:\n",
    "            for item in thread:\n",
    "                for i in item[1:3]:\n",
    "                    self.vertices.append(i)\n",
    "                self.links.append(item[0:5])\n",
    "                \n",
    "    def construct_temporal_graphs(self, interval = time_step, extended_link = 2):\n",
    "        #construct hard temporal graph\n",
    "        init_time = self.links[0][0]\n",
    "        final_time = self.links[-1][0]\n",
    "        for link in self.links:\n",
    "            time = link[0]\n",
    "            if time < init_time:\n",
    "                init_time = time\n",
    "            if time > final_time:\n",
    "                final_time = time\n",
    "        self.init_time = init_time\n",
    "        self.final_time = final_time\n",
    "                \n",
    "        for link in self.links:\n",
    "            time_stamp = link[0]\n",
    "            index = math.floor((time_stamp - init_time) / (interval*60))\n",
    "            if index not in self.hard_temporal_graph:\n",
    "                G = nx.Graph()\n",
    "                G.add_nodes_from(link[1:3])\n",
    "                G.add_edge(link[1], link[2])\n",
    "                self.hard_temporal_graph.update({index : G})\n",
    "            else:\n",
    "                self.hard_temporal_graph[index].add_nodes_from(link[1:3])\n",
    "                self.hard_temporal_graph[index].add_edge(link[1], link[2])\n",
    "                \n",
    "        final_step = math.floor((final_time - init_time) / (interval*60))\n",
    "        for i in range(final_step):\n",
    "            if i not in self.hard_temporal_graph:\n",
    "                self.hard_temporal_graph.update({i : nx.Graph()})\n",
    "                \n",
    "        #construct weighted temporal graph\n",
    "        for index in self.hard_temporal_graph:\n",
    "            G = self.hard_temporal_graph[index]\n",
    "            wG = nx.Graph()\n",
    "            for node in G.nodes:\n",
    "                wG.add_node(node)\n",
    "            for edge in G.edges:\n",
    "                wG.add_edge(edge[0], edge[1], weight = 1)\n",
    "            \n",
    "            if index == 0:\n",
    "                self.weighted_temporal_graph.update({index: wG})\n",
    "                continue\n",
    "                \n",
    "            i = index - 1\n",
    "            j = 1\n",
    "            while i >= 0:\n",
    "                if j > extended_link:\n",
    "                    break\n",
    "                prev_graph = self.hard_temporal_graph[i]\n",
    "                for edge in prev_graph.edges:\n",
    "                    if edge in wG.edges:\n",
    "                        continue\n",
    "                    else:\n",
    "                        wG.add_nodes_from(edge)\n",
    "                        wG.add_edge(edge[0], edge[1], weight = 1)\n",
    "                i = i-1\n",
    "                j = j+1\n",
    "            self.weighted_temporal_graph.update({index: wG})\n",
    "    \n",
    "    def discretize(self, thread, interval):\n",
    "        init_time = self.links[0][0]\n",
    "        thread_init_time = thread[0][0]\n",
    "        thread_final_time = thread[0][0]\n",
    "        for link in thread:\n",
    "            time = link[0]\n",
    "            if time < thread_init_time:\n",
    "                thread_init_time = time\n",
    "            if time > thread_final_time:\n",
    "                thread_final_time = time\n",
    "        discrete_init_time = math.floor((thread_init_time - init_time)/(interval * 60))\n",
    "        discrete_final_time = math.floor((thread_final_time - init_time)/(interval * 60))\n",
    "        \n",
    "        Ti = discrete_final_time - discrete_init_time + 1\n",
    "        T = len(self.weighted_temporal_graph)\n",
    "        return [Ti, T, discrete_init_time, discrete_final_time]\n",
    "        \n",
    "    def link_delta(self, u, v, thread, interval = time_step):\n",
    "        Ti, T, discrete_init_time, discrete_final_time = self.discretize(thread, interval)\n",
    "        \n",
    "        numerator = 0\n",
    "        for i in range(discrete_init_time, discrete_final_time+1):\n",
    "            if (u,v) not in self.weighted_temporal_graph[i].edges:\n",
    "                continue\n",
    "            numerator += self.weighted_temporal_graph[i][u][v]['weight']\n",
    "            \n",
    "        denominator = 0\n",
    "        for i in range(T):\n",
    "            if (u,v) not in self.weighted_temporal_graph[i].edges:\n",
    "                continue\n",
    "            denominator += self.weighted_temporal_graph[i][u][v]['weight']\n",
    "            \n",
    "        return (numerator / (denominator)) * (T / Ti)\n",
    "    \n",
    "    def thread_delta(self, thread, interval = time_step):\n",
    "        result = 0\n",
    "        for link in thread:\n",
    "            result += self.link_delta(link[1], link[2], thread, interval) \n",
    "        return result\n",
    "        \n",
    "    def expected_link_delta(self, u, v, thread, interval = time_step):\n",
    "        Ti, T, discrete_init_time, discrete_final_time = self.discretize(thread, interval)\n",
    "        denominator = 0\n",
    "        for i in range(T):\n",
    "            G = self.weighted_temporal_graph[i]\n",
    "            total_strength = 0\n",
    "            for edge in G.edges:\n",
    "                total_strength += 2*G[edge[0]][edge[1]]['weight']\n",
    "            u_strength = 0\n",
    "            for node in G.nodes:\n",
    "                if (u, node) in G.edges:\n",
    "                    u_strength += G[u][node]['weight']\n",
    "            v_strength = 0\n",
    "            for node in G.nodes:\n",
    "                if (v, node) in G.edges:\n",
    "                    v_strength += G[v][node]['weight']\n",
    "                    \n",
    "            denominator += u_strength * v_strength / (total_strength-1)\n",
    "            \n",
    "        if denominator == 0:\n",
    "            print(thread)\n",
    "            return 0\n",
    "            \n",
    "        numerator = 0\n",
    "        for i in range(discrete_init_time, discrete_final_time + 1):\n",
    "            G = self.weighted_temporal_graph[i]\n",
    "            total_strength = 0\n",
    "            for edge in G.edges:\n",
    "                total_strength += 2*G[edge[0]][edge[1]]['weight']\n",
    "            u_strength = 0\n",
    "            for node in G.nodes:\n",
    "                if (u, node) in G.edges:\n",
    "                    u_strength += G[u][node]['weight']\n",
    "            v_strength = 0\n",
    "            for node in G.nodes:\n",
    "                if (v, node) in G.edges:\n",
    "                    v_strength += G[v][node]['weight']\n",
    "            numerator += u_strength * v_strength / (total_strength-1)\n",
    "\n",
    "        return (numerator / (denominator)) * T/Ti\n",
    "    \n",
    "    def expected_thread_delta(self, thread, interval = time_step):\n",
    "        Ti, T, discrete_init_time, discrete_final_time = self.discretize(thread, interval)\n",
    "        result = 0\n",
    "        for i in range(discrete_init_time, discrete_final_time+1):\n",
    "            G = self.weighted_temporal_graph[i]\n",
    "            involved_nodes = []\n",
    "            for link in thread:\n",
    "                time = link[0]\n",
    "                j = math.floor((time - self.init_time) / (interval * 60))\n",
    "                if j == i:\n",
    "                    for node in link[1:3]:\n",
    "                        if node not in involved_nodes:\n",
    "                            involved_nodes.append(node)\n",
    "                            \n",
    "            for node_1 in involved_nodes:\n",
    "                for node_2 in involved_nodes:\n",
    "                    if node_1 == node_2:\n",
    "                        continue\n",
    "                    result += self.expected_link_delta(node_1, node_2, thread, interval)/2\n",
    "\n",
    "        return result\n",
    "    \n",
    "    def modularity(self, partition, interval=time_step):\n",
    "        \n",
    "        score = 0\n",
    "        for thread in partition:\n",
    "            score += self.expected_thread_delta(thread, interval)\n",
    "            \n",
    "        return score"
   ]
  },
  {
   "cell_type": "code",
   "execution_count": 9,
   "metadata": {},
   "outputs": [],
   "source": [
    "L = LinkStream()\n",
    "test_threads = []\n",
    "i = 0\n",
    "for item in threads_dict:\n",
    "    test_threads.append(threads_dict[item])\n",
    "    i += 1\n",
    "    if i > 100:\n",
    "        break\n",
    "L.construct_from_threads(test_threads)\n",
    "L.construct_temporal_graphs()"
   ]
  },
  {
   "cell_type": "code",
   "execution_count": 28,
   "metadata": {},
   "outputs": [],
   "source": [
    "def partition(lst, n): \n",
    "    division = len(lst) / float(n) \n",
    "    return [ lst[int(round(division * i)): int(round(division * (i + 1)))] for i in range(n) ]"
   ]
  },
  {
   "cell_type": "code",
   "execution_count": 29,
   "metadata": {},
   "outputs": [],
   "source": [
    "randomed_partition = partition(L.links, 10)"
   ]
  },
  {
   "cell_type": "code",
   "execution_count": 209,
   "metadata": {},
   "outputs": [],
   "source": [
    "single_element_threads = []\n",
    "for thread in test_threads:\n",
    "    for link in thread:\n",
    "        single_element_threads.append([link])"
   ]
  },
  {
   "cell_type": "code",
   "execution_count": 824,
   "metadata": {},
   "outputs": [
    {
     "data": {
      "text/plain": [
       "165.4319832570818"
      ]
     },
     "execution_count": 824,
     "metadata": {},
     "output_type": "execute_result"
    }
   ],
   "source": [
    "L.modularity(randomed_partition)"
   ]
  },
  {
   "cell_type": "code",
   "execution_count": 825,
   "metadata": {},
   "outputs": [
    {
     "data": {
      "text/plain": [
       "194.3324699940387"
      ]
     },
     "execution_count": 825,
     "metadata": {},
     "output_type": "execute_result"
    }
   ],
   "source": [
    "L.modularity(test_threads)"
   ]
  },
  {
   "cell_type": "code",
   "execution_count": 826,
   "metadata": {
    "scrolled": true
   },
   "outputs": [
    {
     "data": {
      "text/plain": [
       "317.60354611878995"
      ]
     },
     "execution_count": 826,
     "metadata": {},
     "output_type": "execute_result"
    }
   ],
   "source": [
    "L.modularity(single_element_threads)"
   ]
  },
  {
   "cell_type": "code",
   "execution_count": 641,
   "metadata": {},
   "outputs": [],
   "source": [
    "S = LinkStream()\n",
    "S.links = [[1,2,3],[2,1,2]]\n",
    "partitions = [[[1,2,3]],[[2,1,2]]]"
   ]
  },
  {
   "cell_type": "code",
   "execution_count": 642,
   "metadata": {},
   "outputs": [],
   "source": [
    "S.construct_temporal_graphs(interval = 1/60)"
   ]
  },
  {
   "cell_type": "code",
   "execution_count": 643,
   "metadata": {},
   "outputs": [
    {
     "data": {
      "text/plain": [
       "EdgeView([(1, 2)])"
      ]
     },
     "execution_count": 643,
     "metadata": {},
     "output_type": "execute_result"
    }
   ],
   "source": [
    "S.weighted_temporal_graph[1].edges"
   ]
  },
  {
   "cell_type": "code",
   "execution_count": 644,
   "metadata": {},
   "outputs": [],
   "source": [
    "if (3,2) in S.weighted_temporal_graph[1].edges:\n",
    "    print('la')"
   ]
  },
  {
   "cell_type": "code",
   "execution_count": 645,
   "metadata": {},
   "outputs": [
    {
     "name": "stdout",
     "output_type": "stream",
     "text": [
      "2.0\n",
      "2.0\n",
      "2.0\n",
      "2.0\n"
     ]
    },
    {
     "data": {
      "text/plain": [
       "0.0"
      ]
     },
     "execution_count": 645,
     "metadata": {},
     "output_type": "execute_result"
    }
   ],
   "source": [
    "S.modularity(partitions, interval = 1/60)"
   ]
  },
  {
   "cell_type": "code",
   "execution_count": null,
   "metadata": {},
   "outputs": [],
   "source": []
  },
  {
   "cell_type": "code",
   "execution_count": null,
   "metadata": {},
   "outputs": [],
   "source": []
  },
  {
   "cell_type": "markdown",
   "metadata": {},
   "source": [
    "# Greedy Search"
   ]
  },
  {
   "cell_type": "code",
   "execution_count": 4,
   "metadata": {},
   "outputs": [],
   "source": [
    "def intersection(lst1, lst2): \n",
    "    lst3 = [value for value in lst1 if value in lst2] \n",
    "    return lst3\n",
    "\n",
    "def union(lst1, lst2):\n",
    "    lst3 = lst1\n",
    "    for value in lst2:\n",
    "        if value not in lst3:\n",
    "            lst3.append(value)\n",
    "    return lst3\n",
    "\n",
    "def max_intersection_thread(cluster, ground_truth_partition):\n",
    "    max_intersection = 0\n",
    "    max_thread = None\n",
    "\n",
    "    for thread in ground_truth_partition:\n",
    "        intersect = intersection(cluster, thread)\n",
    "        if max_intersection < len(intersect):\n",
    "            max_intersection = len(intersect)\n",
    "            max_thread = thread\n",
    "    return (max_thread, max_intersection)"
   ]
  },
  {
   "cell_type": "code",
   "execution_count": 5,
   "metadata": {},
   "outputs": [],
   "source": [
    "def partition_score(partition, ground_truth_partition):\n",
    "    final_score = 0\n",
    "    for cluster in partition:\n",
    "        match_thread, intersect = max_intersection_thread(cluster, ground_truth_partition)\n",
    "        cluster_score = intersect / len(union(cluster, match_thread))\n",
    "        final_score += cluster_score\n",
    "    return final_score / len(partition)"
   ]
  },
  {
   "cell_type": "code",
   "execution_count": 45,
   "metadata": {},
   "outputs": [],
   "source": [
    "randomed_partition = partition(L.links, 120)"
   ]
  },
  {
   "cell_type": "code",
   "execution_count": 46,
   "metadata": {},
   "outputs": [
    {
     "data": {
      "text/plain": [
       "0.45164652477152506"
      ]
     },
     "execution_count": 46,
     "metadata": {},
     "output_type": "execute_result"
    }
   ],
   "source": [
    "partition_score(randomed_partition, test_threads)"
   ]
  },
  {
   "cell_type": "code",
   "execution_count": 48,
   "metadata": {},
   "outputs": [
    {
     "data": {
      "text/plain": [
       "0.4786729857819906"
      ]
     },
     "execution_count": 48,
     "metadata": {},
     "output_type": "execute_result"
    }
   ],
   "source": [
    "partition_score(single_element_threads, test_threads)"
   ]
  },
  {
   "cell_type": "code",
   "execution_count": 41,
   "metadata": {},
   "outputs": [
    {
     "data": {
      "text/plain": [
       "0.6388888888888888"
      ]
     },
     "execution_count": 41,
     "metadata": {},
     "output_type": "execute_result"
    }
   ],
   "source": [
    "# simple test\n",
    "gtp = [[1,2,3],[4,5,6],[7,8,9]]\n",
    "p = [[1,2,3,4],[5,6,7],[8,9]]\n",
    "partition_score(p, gtp)"
   ]
  },
  {
   "cell_type": "code",
   "execution_count": 29,
   "metadata": {},
   "outputs": [],
   "source": [
    "def time_stamp(link):\n",
    "    return link[0]\n",
    "\n",
    "def node_set(thread):\n",
    "    node_set = []\n",
    "    for link in thread:\n",
    "        for node in link[1:3]:\n",
    "            if node not in node_set:\n",
    "                node_set.append(node)\n",
    "    return set(node_set)\n",
    "\n",
    "def greedy_partition(linkstream, break_time = 60):\n",
    "    sorted_ls = sorted(linkstream, key = time_stamp)\n",
    "    partition = None\n",
    "    for link in sorted_ls:\n",
    "        if partition is None:\n",
    "            partition = [[link]] #initial cluster\n",
    "            continue\n",
    "        \n",
    "        i = 0 # index for cluster\n",
    "        j = 0 # index for best cluster\n",
    "        best_score = 0 # score for adding link to a cluster, add link to cluster with maximum score (same nodes / time)\n",
    "        for cluster in partition:\n",
    "            last_added_link = cluster[-1]\n",
    "            if link[0] - last_added_link[0] < break_time*60:\n",
    "                score = len(set(link[1:3]).intersection(node_set(cluster))) * 60 / (link[0] - last_added_link[0] + 0.01)\n",
    "                if score > best_score:\n",
    "                    best_score = score\n",
    "                    j = i\n",
    "            i += 1\n",
    "        \n",
    "        if best_score == 0: # condition for new cluster\n",
    "            partition.append([link])\n",
    "        else:\n",
    "            partition[j].append(link)\n",
    "    return partition"
   ]
  },
  {
   "cell_type": "code",
   "execution_count": 115,
   "metadata": {},
   "outputs": [],
   "source": [
    "links = []\n",
    "for thread in multiple_test_thread[0:600]:\n",
    "    for link in thread:\n",
    "        links.append(link)\n",
    "la = greedy_partition(links, break_time= 7000)"
   ]
  },
  {
   "cell_type": "code",
   "execution_count": 116,
   "metadata": {},
   "outputs": [
    {
     "data": {
      "text/plain": [
       "0.6729076421656771"
      ]
     },
     "execution_count": 116,
     "metadata": {},
     "output_type": "execute_result"
    }
   ],
   "source": [
    "partition_score(la, multiple_test_thread[0:600])"
   ]
  },
  {
   "cell_type": "markdown",
   "metadata": {},
   "source": [
    "# Louvain for line graph"
   ]
  },
  {
   "cell_type": "code",
   "execution_count": 311,
   "metadata": {},
   "outputs": [],
   "source": [
    "i = 0\n",
    "test_threads = []\n",
    "for item in threads_dict:\n",
    "    test_threads.append(threads_dict[item])\n",
    "    i += 1\n",
    "    if i > 100:\n",
    "        break"
   ]
  },
  {
   "cell_type": "code",
   "execution_count": 866,
   "metadata": {},
   "outputs": [],
   "source": [
    "interval = 60\n",
    "link_dict = {}\n",
    "line_graph = nx.Graph()\n",
    "i = 0\n",
    "for thread in test_threads:\n",
    "    for link in thread:\n",
    "        link_dict.update({i : link})\n",
    "        line_graph.add_node(i)\n",
    "        i += 1\n",
    "        \n",
    "for v1 in line_graph.nodes:\n",
    "    for v2 in line_graph.nodes:\n",
    "        if v1 == v2:\n",
    "            continue\n",
    "        else:\n",
    "            link1 = link_dict[v1]\n",
    "            link2 = link_dict[v2]\n",
    "            if abs(link1[0] - link2[0]) < interval*60 and (link1[1] == link2[1] or link1[1] == link2[2]):\n",
    "                line_graph.add_edge(v1, v2)"
   ]
  },
  {
   "cell_type": "code",
   "execution_count": 867,
   "metadata": {
    "scrolled": true
   },
   "outputs": [
    {
     "data": {
      "image/png": "[encoded data removed]",
      "text/plain": [
       "<Figure size 432x288 with 1 Axes>"
      ]
     },
     "metadata": {
      "needs_background": "light"
     },
     "output_type": "display_data"
    }
   ],
   "source": [
    "partition = community.best_partition(line_graph)\n",
    "\n",
    "#drawing\n",
    "size = float(len(set(partition.values())))\n",
    "pos = nx.spring_layout(line_graph)\n",
    "count = 0\n",
    "for com in set(partition.values()) :\n",
    "    list_nodes = [nodes for nodes in partition.keys()\n",
    "                                if partition[nodes] == com]\n",
    "    nx.draw_networkx_nodes(line_graph, pos, list_nodes, node_size = 20,\n",
    "                                node_color = color_set[count])\n",
    "    count = count + 1\n",
    "\n",
    "\n",
    "nx.draw_networkx_edges(line_graph, pos, alpha=0.5)\n",
    "plt.show()"
   ]
  },
  {
   "cell_type": "code",
   "execution_count": 868,
   "metadata": {},
   "outputs": [
    {
     "data": {
      "text/plain": [
       "0.9532871972318343"
      ]
     },
     "execution_count": 868,
     "metadata": {},
     "output_type": "execute_result"
    }
   ],
   "source": [
    "community.modularity(partition, line_graph)"
   ]
  },
  {
   "cell_type": "code",
   "execution_count": 869,
   "metadata": {},
   "outputs": [],
   "source": [
    "ground_truth_label = {}\n",
    "for key in link_dict:\n",
    "    label = link_dict[key][4]\n",
    "    ground_truth_label.update({key : label})"
   ]
  },
  {
   "cell_type": "code",
   "execution_count": 870,
   "metadata": {},
   "outputs": [
    {
     "data": {
      "text/plain": [
       "0.40224913494809694"
      ]
     },
     "execution_count": 870,
     "metadata": {},
     "output_type": "execute_result"
    }
   ],
   "source": [
    "community.modularity(ground_truth_label, line_graph)"
   ]
  },
  {
   "cell_type": "markdown",
   "metadata": {},
   "source": [
    "# Some Testing Score"
   ]
  },
  {
   "cell_type": "code",
   "execution_count": 30,
   "metadata": {},
   "outputs": [],
   "source": [
    "day = 24*60*60\n",
    "def thread_score(thread, alpha = 1, beta = 0.01, gamma = 1):\n",
    "    thread = sorted(thread, key = time_stamp)\n",
    "    num_of_links = len(thread)\n",
    "    nodes = []\n",
    "    for link in thread:\n",
    "        for node in link[1:3]:\n",
    "            if node not in nodes:\n",
    "                nodes.append(node)\n",
    "    num_of_nodes = len(nodes)\n",
    "    \n",
    "    intercontact_time = []\n",
    "    if num_of_links == 1:\n",
    "        return 0.5\n",
    "    else:\n",
    "        for i in range(num_of_links - 1):\n",
    "            intercontact_time.append((thread[i+1][0] - thread[i][0])/day)\n",
    "            \n",
    "        duration = 0\n",
    "        for t in intercontact_time:\n",
    "            duration += t\n",
    "        expectation = duration / len(intercontact_time)\n",
    "        \n",
    "        variance = 0\n",
    "        for t in intercontact_time:\n",
    "            variance += (t - expectation)**2\n",
    "        variance = variance / len(intercontact_time)\n",
    "        \n",
    "    return num_of_links ** gamma / ( num_of_nodes + beta * duration + alpha * variance)\n",
    "\n",
    "def partition_value(partition, alpha = 1, beta = 0.01, gamma = 1):\n",
    "    result = 0\n",
    "    num_edges = 0\n",
    "    for thread in partition:\n",
    "        num_edges += len(thread)\n",
    "    for thread in partition:\n",
    "        result += thread_score(thread, alpha, beta, gamma)\n",
    "    return result / num_edges"
   ]
  },
  {
   "cell_type": "code",
   "execution_count": 118,
   "metadata": {},
   "outputs": [],
   "source": [
    "test_thread_1 = []\n",
    "test_thread_2 = []\n",
    "whole_data = []\n",
    "i = 0\n",
    "for index in threads_dict:\n",
    "    if i < 100:\n",
    "        test_thread_1.append(threads_dict[index])\n",
    "    elif i < 200:\n",
    "        test_thread_2.append(threads_dict[index])\n",
    "    else:\n",
    "        break\n",
    "    whole_data.append(threads_dict[index])\n",
    "    i +=1"
   ]
  },
  {
   "cell_type": "code",
   "execution_count": 32,
   "metadata": {},
   "outputs": [],
   "source": [
    "def equal_size_partition(data, size):\n",
    "    partition = []\n",
    "    i = 0\n",
    "    tmp = []\n",
    "    for thread in data:\n",
    "        for link in thread:\n",
    "            tmp.append(link)\n",
    "            i = i+1\n",
    "            if i > size:\n",
    "                partition.append(tmp)\n",
    "                i = 0\n",
    "                tmp = []\n",
    "    return partition"
   ]
  },
  {
   "cell_type": "code",
   "execution_count": 33,
   "metadata": {},
   "outputs": [],
   "source": [
    "def single_element_partition(data):\n",
    "    partition = []\n",
    "    for thread in data:\n",
    "        for link in thread:\n",
    "            partition.append([link])\n",
    "    return partition"
   ]
  },
  {
   "cell_type": "code",
   "execution_count": 34,
   "metadata": {},
   "outputs": [],
   "source": [
    "def one_big_partition(data):\n",
    "    big_thread = []\n",
    "    for thread in data:\n",
    "        for link in thread:\n",
    "            big_thread.append(link)\n",
    "    return [big_thread]"
   ]
  },
  {
   "cell_type": "code",
   "execution_count": 35,
   "metadata": {},
   "outputs": [],
   "source": [
    "def parameter_test(true_partition, partitions, alpha, beta, gamma):\n",
    "    score = partition_value(true_partition, alpha, beta, gamma)\n",
    "    for part in partitions:\n",
    "        s = partition_value(part, alpha, beta, gamma)\n",
    "        if score < s:\n",
    "            return False\n",
    "    return True"
   ]
  },
  {
   "cell_type": "code",
   "execution_count": 119,
   "metadata": {},
   "outputs": [],
   "source": [
    "equal_size_partition_1 = equal_size_partition(test_thread_1, 5)\n",
    "equal_size_partition_2 = equal_size_partition(test_thread_2, 5)\n",
    "\n",
    "single_element_threads_1 = single_element_partition(test_thread_1)\n",
    "single_element_threads_2 = single_element_partition(test_thread_2)\n",
    "\n",
    "whole_partition_1 = one_big_partition(test_thread_1)\n",
    "whole_partition_2 = one_big_partition(test_thread_2)\n",
    "\n",
    "links_1 = []\n",
    "links_2 = []\n",
    "for thread in test_thread_1:\n",
    "    for link in thread:\n",
    "        links_1.append(link)\n",
    "        \n",
    "for thread in test_thread_2:\n",
    "    for link in thread:\n",
    "        links_2.append(link)\n",
    "la_1 = greedy_partition(links_1, break_time = 1300)\n",
    "la_2 = greedy_partition(links_2, break_time = 1300)\n",
    "\n",
    "partitions = [equal_size_partition_1, single_element_threads_1, la_1, whole_partition_1]"
   ]
  },
  {
   "cell_type": "code",
   "execution_count": 15,
   "metadata": {},
   "outputs": [],
   "source": [
    "# grid search\n",
    "a = []\n",
    "b = []\n",
    "c = []\n",
    "for i in range(10):\n",
    "    a.append(0.01 + i*0.4)\n",
    "    b.append(0.1 + i*0.5)\n",
    "    c.append(1 + 0.1*i)"
   ]
  },
  {
   "cell_type": "code",
   "execution_count": 16,
   "metadata": {
    "scrolled": true
   },
   "outputs": [
    {
     "name": "stdout",
     "output_type": "stream",
     "text": [
      "------------------\n",
      "0.01\n",
      "0.1\n",
      "1.7000000000000002\n",
      "------------------\n",
      "0.01\n",
      "0.1\n",
      "1.8\n",
      "------------------\n",
      "0.01\n",
      "0.6\n",
      "1.9\n",
      "------------------\n",
      "0.41000000000000003\n",
      "0.1\n",
      "1.7000000000000002\n",
      "------------------\n",
      "0.41000000000000003\n",
      "0.6\n",
      "1.9\n",
      "------------------\n",
      "0.81\n",
      "0.1\n",
      "1.7000000000000002\n",
      "------------------\n",
      "0.81\n",
      "0.6\n",
      "1.9\n",
      "------------------\n",
      "1.2100000000000002\n",
      "0.6\n",
      "1.9\n"
     ]
    }
   ],
   "source": [
    "num_passed = 0\n",
    "for alpha in a:\n",
    "    for beta in b:\n",
    "        for gamma in c:\n",
    "            passed = parameter_test(test_thread_1, partitions, alpha, beta, gamma)\n",
    "            if passed:\n",
    "                num_passed += 1\n",
    "                #print(\"------------------\")\n",
    "                #print(alpha)f\n",
    "                #print(beta)\n",
    "                #print(gamma)"
   ]
  },
  {
   "cell_type": "code",
   "execution_count": 30,
   "metadata": {},
   "outputs": [
    {
     "data": {
      "text/plain": [
       "119.95724080493856"
      ]
     },
     "execution_count": 30,
     "metadata": {},
     "output_type": "execute_result"
    }
   ],
   "source": [
    "partition_value(test_thread_2, 0.81, 0.1, 1.7)"
   ]
  },
  {
   "cell_type": "code",
   "execution_count": 24,
   "metadata": {},
   "outputs": [
    {
     "data": {
      "text/plain": [
       "84.07557690777188"
      ]
     },
     "execution_count": 24,
     "metadata": {},
     "output_type": "execute_result"
    }
   ],
   "source": [
    "partition_value(equal_size_partition_2, 0.81, 0.1, 1.7)"
   ]
  },
  {
   "cell_type": "code",
   "execution_count": 25,
   "metadata": {},
   "outputs": [
    {
     "data": {
      "text/plain": [
       "111.0"
      ]
     },
     "execution_count": 25,
     "metadata": {},
     "output_type": "execute_result"
    }
   ],
   "source": [
    "partition_value(single_element_threads_2, 0.81, 0.1, 1.7)"
   ]
  },
  {
   "cell_type": "code",
   "execution_count": 26,
   "metadata": {},
   "outputs": [
    {
     "data": {
      "text/plain": [
       "97.9851768503056"
      ]
     },
     "execution_count": 26,
     "metadata": {},
     "output_type": "execute_result"
    }
   ],
   "source": [
    "partition_value(la_2, 0.81, 0.1, 1.7)"
   ]
  },
  {
   "cell_type": "code",
   "execution_count": 27,
   "metadata": {},
   "outputs": [
    {
     "data": {
      "text/plain": [
       "21.433315586861053"
      ]
     },
     "execution_count": 27,
     "metadata": {},
     "output_type": "execute_result"
    }
   ],
   "source": [
    "partition_value(whole_partition_2, 0.81, 0.1, 1.7)"
   ]
  },
  {
   "cell_type": "markdown",
   "metadata": {},
   "source": [
    "#### Cross Validation"
   ]
  },
  {
   "cell_type": "code",
   "execution_count": 36,
   "metadata": {},
   "outputs": [],
   "source": [
    "def grid_search(a, b, c, true_partition, partitions):\n",
    "    for alpha in a:\n",
    "        for beta in b:\n",
    "            for gamma in c:\n",
    "                passed = parameter_test(true_partition, partitions, alpha, beta, gamma)\n",
    "                if passed:\n",
    "                    return [alpha, beta, gamma]\n",
    "    print('all fail')"
   ]
  },
  {
   "cell_type": "code",
   "execution_count": 109,
   "metadata": {},
   "outputs": [],
   "source": [
    "import math\n",
    "def cross_validation(data, training_index, ratio = 1/2, alpha_step = 0.2, beta_step = 0.5, gamma_step = 0.7): \n",
    "    #from starting_index to starting_index + 150 (wraped if overflow) is for learning\n",
    "    #ratio is train / whole data, the rest is for test\n",
    "    w = 0 # for wraping\n",
    "    learning_data = []\n",
    "    testing_data = []\n",
    "    train_size = math.floor(len(data) * ratio)\n",
    "    test_size = len(data) - train_size\n",
    "    for i in range(training_index, training_index + train_size):\n",
    "        if i < len(data):\n",
    "            learning_data.append(data[i])\n",
    "        else:\n",
    "            learning_data.append(data[w])\n",
    "            w += 1\n",
    "\n",
    "    if w > 0:\n",
    "        for j in range(test_size):\n",
    "            testing_data.append(data[w + j])\n",
    "    else:\n",
    "        for i in range(training_index):\n",
    "            testing_data.append(data[i])\n",
    "        for i in range(training_index + train_size, len(data)):\n",
    "            testing_data.append(data[i])\n",
    "            \n",
    "    equal_size_partition_1 = equal_size_partition(learning_data, 3)\n",
    "    equal_size_partition_2 = equal_size_partition(testing_data, 3)\n",
    "\n",
    "    single_element_threads_1 = single_element_partition(learning_data)\n",
    "    single_element_threads_2 = single_element_partition(testing_data)\n",
    "\n",
    "    whole_partition_1 = one_big_partition(learning_data)\n",
    "    whole_partition_2 = one_big_partition(testing_data)\n",
    "\n",
    "    links_1 = []\n",
    "    links_2 = []\n",
    "    for thread in learning_data:\n",
    "        for link in thread:\n",
    "            links_1.append(link)\n",
    "\n",
    "    for thread in testing_data:\n",
    "        for link in thread:\n",
    "            links_2.append(link)\n",
    "    la_1 = greedy_partition(links_1, break_time = 8000)\n",
    "    la_2 = greedy_partition(links_2, break_time = 8000)\n",
    "    \n",
    "    a = []\n",
    "    b = []\n",
    "    c = []\n",
    "    for i in range(10):\n",
    "        a.append(0.01 + i*alpha_step)\n",
    "        b.append(0 + i*beta_step)\n",
    "        c.append(1 + i*gamma_step)\n",
    "\n",
    "    partitions_1 = [whole_partition_1, single_element_threads_1, la_1, equal_size_partition_1]\n",
    "    partitions_2 = [whole_partition_2, single_element_threads_2, la_2, equal_size_partition_2]\n",
    "    \n",
    "    alpha, beta, gamma = grid_search(a, b, c, learning_data, partitions_1)\n",
    "    \n",
    "    print(\"=======================================\")\n",
    "    print(alpha)\n",
    "    print(beta)\n",
    "    print(gamma)\n",
    "    print(\"----------\")\n",
    "    print(\"train score:\")\n",
    "    print(partition_value(learning_data, alpha, beta, gamma))\n",
    "    print(\"other train score:\")\n",
    "    for part in partitions_1:\n",
    "        print(partition_value(part, alpha, beta, gamma))\n",
    "    \n",
    "    test_score = partition_value(testing_data, alpha, beta, gamma)\n",
    "    print(\"----------\")\n",
    "    print('test score:')\n",
    "    print(test_score)\n",
    "    print('other test score:')\n",
    "    for part in partitions_2:\n",
    "        score = partition_value(part, alpha, beta, gamma)\n",
    "        print(score)"
   ]
  },
  {
   "cell_type": "code",
   "execution_count": 110,
   "metadata": {},
   "outputs": [],
   "source": [
    "# test with threads with more than 3 links\n",
    "multiple_test_thread = []\n",
    "for index in threads_dict:\n",
    "    thread = threads_dict[index]\n",
    "    if len(thread) > 3:\n",
    "        multiple_test_thread.append(thread)"
   ]
  },
  {
   "cell_type": "code",
   "execution_count": 112,
   "metadata": {},
   "outputs": [
    {
     "name": "stdout",
     "output_type": "stream",
     "text": [
      "=======================================\n",
      "0.01\n",
      "0.0\n",
      "1.75\n",
      "----------\n",
      "train score:\n",
      "0.7343248406853434\n",
      "other train score:\n",
      "0.4781197914688769\n",
      "0.5\n",
      "0.6501327450647456\n",
      "0.5927874464596729\n",
      "----------\n",
      "test score:\n",
      "0.8088095037693619\n",
      "other test score:\n",
      "0.5397499885578864\n",
      "0.5\n",
      "0.5830491253110704\n",
      "0.6219290665254754\n"
     ]
    }
   ],
   "source": [
    "cross_validation(multiple_test_thread[0:600], 0, ratio = 1/2, alpha_step = 0.2, beta_step = 0.1, gamma_step = 0.75)"
   ]
  },
  {
   "cell_type": "markdown",
   "metadata": {},
   "source": [
    "####  Function Plotting"
   ]
  },
  {
   "cell_type": "code",
   "execution_count": 180,
   "metadata": {
    "scrolled": true
   },
   "outputs": [
    {
     "data": {
      "text/plain": [
       "<Figure size 432x288 with 0 Axes>"
      ]
     },
     "metadata": {},
     "output_type": "display_data"
    }
   ],
   "source": [
    "from mpl_toolkits import mplot3d\n",
    "%matplotlib inline\n",
    "import numpy as np\n",
    "import matplotlib.pyplot as plt\n",
    "fig = plt.figure()\n",
    "links_1 = []\n",
    "links_2 = []\n",
    "for thread in test_thread_1:\n",
    "    for link in thread:\n",
    "        links_1.append(link)\n",
    "        \n",
    "for thread in test_thread_2:\n",
    "    for link in thread:\n",
    "        links_2.append(link)\n",
    "la_1 = greedy_partition(links_1, break_time = 1300)\n",
    "la_2 = greedy_partition(links_2, break_time = 1300)"
   ]
  },
  {
   "cell_type": "code",
   "execution_count": 152,
   "metadata": {},
   "outputs": [],
   "source": [
    "def constraint_fuction(partition, beta, gamma):\n",
    "    score = partition_value(partition, 1, beta, gamma)\n",
    "    gt_score = partition_value(test_thread_1, 1, beta, gamma)\n",
    "    return gt_score - score"
   ]
  },
  {
   "cell_type": "code",
   "execution_count": 174,
   "metadata": {},
   "outputs": [],
   "source": [
    "whole_partition_1 = one_big_partition(test_thread_1)\n",
    "single_element_threads_1 = single_element_partition(test_thread_1)"
   ]
  },
  {
   "cell_type": "code",
   "execution_count": 154,
   "metadata": {},
   "outputs": [
    {
     "data": {
      "text/plain": [
       "0.21197389510428083"
      ]
     },
     "execution_count": 154,
     "metadata": {},
     "output_type": "execute_result"
    }
   ],
   "source": [
    "constraint_fuction(whole_partition_1, 0.01, 1.7)"
   ]
  },
  {
   "cell_type": "code",
   "execution_count": 181,
   "metadata": {
    "scrolled": true
   },
   "outputs": [],
   "source": [
    "beta = np.linspace(0, 1, 20)\n",
    "gamma = np.linspace(1, 2, 20)\n",
    "\n",
    "B, G = np.meshgrid(beta, gamma)\n",
    "value = []\n",
    "for b in beta:\n",
    "    tmp = []\n",
    "    for g in gamma:\n",
    "        tmp.append(constraint_fuction(la_1, b, g))\n",
    "    value.append(np.array(tmp))\n",
    "value = np.array(value)"
   ]
  },
  {
   "cell_type": "code",
   "execution_count": 182,
   "metadata": {},
   "outputs": [
    {
     "data": {
      "text/plain": [
       "(20, 20)"
      ]
     },
     "execution_count": 182,
     "metadata": {},
     "output_type": "execute_result"
    }
   ],
   "source": [
    "value.shape"
   ]
  },
  {
   "cell_type": "code",
   "execution_count": 183,
   "metadata": {
    "scrolled": false
   },
   "outputs": [
    {
     "data": {
      "image/png": "[encoded data removed]",
      "text/plain": [
       "<Figure size 432x288 with 1 Axes>"
      ]
     },
     "metadata": {
      "needs_background": "light"
     },
     "output_type": "display_data"
    }
   ],
   "source": [
    "fig = plt.figure()\n",
    "ax = plt.axes(projection='3d')\n",
    "ax.contour3D(B, G, value, 50, cmap='binary')\n",
    "ax.set_xlabel('beta')\n",
    "ax.set_ylabel('gamma')\n",
    "ax.set_zlabel('value');"
   ]
  },
  {
   "cell_type": "code",
   "execution_count": 179,
   "metadata": {},
   "outputs": [
    {
     "data": {
      "image/png": "[encoded data removed]",
      "text/plain": [
       "<Figure size 432x288 with 1 Axes>"
      ]
     },
     "execution_count": 179,
     "metadata": {},
     "output_type": "execute_result"
    }
   ],
   "source": [
    "ax.view_init(45, 60)\n",
    "fig"
   ]
  },
  {
   "cell_type": "code",
   "execution_count": null,
   "metadata": {},
   "outputs": [],
   "source": []
  }
 ],
 "metadata": {
  "kernelspec": {
   "display_name": "Python 3",
   "language": "python",
   "name": "python3"
  },
  "language_info": {
   "codemirror_mode": {
    "name": "ipython",
    "version": 3
   },
   "file_extension": ".py",
   "mimetype": "text/x-python",
   "name": "python",
   "nbconvert_exporter": "python",
   "pygments_lexer": "ipython3",
   "version": "3.7.1"
  }
 },
 "nbformat": 4,
 "nbformat_minor": 2
}
