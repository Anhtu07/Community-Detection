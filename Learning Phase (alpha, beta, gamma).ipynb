{
 "cells": [
  {
   "cell_type": "code",
   "execution_count": 1,
   "metadata": {},
   "outputs": [],
   "source": [
    "import pandas as pd\n",
    "debian_mailing_list = pd.read_csv(\"./debian-user-filtered.dat\", header = None)\n",
    "\n",
    "processed_dml = []\n",
    "for items in debian_mailing_list[0]:\n",
    "    link = [int(s) for s in items.split(\" \")]\n",
    "    processed_dml.append(link)\n",
    "    \n",
    "threads_dict = {}\n",
    "for link in processed_dml:\n",
    "    thread_id = link[4]\n",
    "    if thread_id not in threads_dict:\n",
    "        threads_dict.update({thread_id : [link[0:5]]})\n",
    "    else:\n",
    "        threads_dict[thread_id].append(link[0:5])"
   ]
  },
  {
   "cell_type": "code",
   "execution_count": 127,
   "metadata": {},
   "outputs": [],
   "source": [
    "test_data = []\n",
    "i = 1\n",
    "for key in threads_dict:\n",
    "    if i > 200:\n",
    "        break\n",
    "    i += 1\n",
    "    test_data.append(threads_dict[key])"
   ]
  },
  {
   "cell_type": "code",
   "execution_count": 3,
   "metadata": {},
   "outputs": [],
   "source": [
    "def time_stamp(link):\n",
    "    return link[0]\n",
    "\n",
    "def return_all_statistic(partition):\n",
    "    num_of_links = []\n",
    "    num_of_nodes = []\n",
    "    duration = []\n",
    "    variance = []\n",
    "    \n",
    "    for thread in partition:\n",
    "        thread = sorted(thread, key = time_stamp)\n",
    "        duration.append((thread[-1][0] - thread[0][0])/day)\n",
    "        \n",
    "        num_of_links.append(len(thread))\n",
    "        \n",
    "        thread_node = []\n",
    "        for link in thread:\n",
    "            for node in link[1:3]:\n",
    "                if node not in thread_node:\n",
    "                    thread_node.append(node)\n",
    "        num_of_nodes.append(len(thread_node))                                                                                                                          \n",
    "        \n",
    "        if len(thread) < 2:\n",
    "            variance.append(0)\n",
    "            continue\n",
    "        \n",
    "        intercontact_time = []\n",
    "        for i in range(len(thread)-1):\n",
    "            intercontact_time.append((thread[i+1][0] - thread[i][0])/day)\n",
    "            \n",
    "        expectation = (thread[-1][0] - thread[0][0]) / (day * len(intercontact_time)) \n",
    "        \n",
    "        var = 0\n",
    "        for t in intercontact_time:\n",
    "            var += (t - expectation)**2\n",
    "        var = var / len(intercontact_time)\n",
    "        variance.append(var)\n",
    "        \n",
    "    return num_of_links, num_of_nodes, duration, variance"
   ]
  },
  {
   "cell_type": "code",
   "execution_count": 39,
   "metadata": {},
   "outputs": [],
   "source": [
    "import numpy as np\n",
    "import math\n",
    "day = 24*60*60\n",
    "def thread_score(num_of_links, num_of_nodes, duration, variance, alpha, beta, gamma):\n",
    "    return (num_of_links ** gamma) / ( num_of_nodes  + alpha * variance + beta * duration)\n",
    "\n",
    "thread_score = np.vectorize(thread_score)\n",
    "\n",
    "def partition_value(list_num_links, list_num_node, list_duration, list_variance, alpha, beta, gamma):\n",
    "    total_links = np.sum(list_num_links)\n",
    "    return np.sum(thread_score(list_num_links, list_num_node, list_duration, list_variance, alpha, beta, gamma)) /total_links\n",
    "\n",
    "def partial_alpha(num_of_links, num_of_nodes, duration, variance, alpha, beta, gamma):\n",
    "    partial_alpha = - variance * (num_of_links ** gamma) / ((num_of_nodes + alpha * variance + beta * duration) ** 2)\n",
    "    return partial_alpha\n",
    "partial_alpha = np.vectorize(partial_alpha)\n",
    "\n",
    "def partial_beta(num_of_links, num_of_nodes, duration, variance, alpha, beta, gamma):\n",
    "    partial_beta = - duration * (num_of_links ** gamma) / ((num_of_nodes + alpha * variance + beta * duration) ** 2)\n",
    "    return partial_beta\n",
    "partial_beta = np.vectorize(partial_beta)\n",
    "\n",
    "def partial_gamma(num_of_links, num_of_nodes, duration, variance, alpha, beta, gamma):\n",
    "    partial_gamma = math.log(gamma) * (num_of_links ** gamma) / (num_of_nodes + alpha * variance + beta * duration)\n",
    "    return partial_gamma\n",
    "partial_gamma = np.vectorize(partial_gamma)\n",
    "\n",
    "def grad_partition_value(list_num_links, list_num_node, list_duration, list_variance, alpha, beta, gamma):\n",
    "    total_links = np.sum(list_num_links)\n",
    "    p_alpha = partial_alpha(list_num_links, list_num_node, list_duration, list_variance, alpha, beta, gamma)\n",
    "    p_beta =  partial_beta(list_num_links, list_num_node, list_duration, list_variance, alpha, beta, gamma)\n",
    "    p_gamma = partial_gamma(list_num_links, list_num_node, list_duration, list_variance, alpha, beta, gamma)\n",
    "    return np.sum(p_alpha)/total_links, np.sum(p_beta)/total_links, np.sum(p_gamma)/total_links"
   ]
  },
  {
   "cell_type": "code",
   "execution_count": 110,
   "metadata": {},
   "outputs": [],
   "source": [
    "def finding_nemo(ground_truth_partition, alpha = 1, beta = 1, gamma = 1.5, learning_rate = 0.05, back_track = 0.5):\n",
    "    big_thread = []\n",
    "    for thread in ground_truth_partition:\n",
    "        for link in thread:\n",
    "            big_thread.append(link)\n",
    "    whole_partition = [big_thread]\n",
    "    \n",
    "    whole_stat = return_all_statistic(whole_partition)\n",
    "    gt_stat = return_all_statistic(ground_truth_partition)\n",
    "    \n",
    "    # first try to optimize f(E_g) to a value greater than 0.5\n",
    "    a = alpha\n",
    "    b = beta\n",
    "    g = gamma\n",
    "    lr = learning_rate\n",
    "    value = partition_value(gt_stat[0], gt_stat[1], gt_stat[2], gt_stat[3], alpha, beta, gamma)\n",
    "    while value < 0.55:\n",
    "        grad = grad_partition_value(gt_stat[0], gt_stat[1], gt_stat[2], gt_stat[3], a, b, g)\n",
    "        a_tmp = a + lr * grad[0]\n",
    "        b_tmp = b + lr * grad[1]\n",
    "        g_tmp = g + lr * grad[2]\n",
    "        \n",
    "        i = 0\n",
    "        while not (a_tmp >= 0 and b_tmp >= 0 and g_tmp >=1):\n",
    "            lr = learning_rate * back_track\n",
    "            a_tmp = a + lr * grad[0]\n",
    "            b_tmp = b + lr * grad[1]\n",
    "            g_tmp = g + lr * grad[2]\n",
    "            i += 1\n",
    "            if i > 100:\n",
    "                print('feu vkl')\n",
    "                return\n",
    "        a = a_tmp\n",
    "        b = b_tmp\n",
    "        g = g_tmp\n",
    "        value = partition_value(gt_stat[0], gt_stat[1], gt_stat[2], gt_stat[3], a, b, g)\n",
    "        \n",
    "    whole_value = partition_value(whole_stat[0], whole_stat[1], whole_stat[2], whole_stat[3], a, b, g)\n",
    "    prev_value = -100\n",
    "    current_value = value - whole_value\n",
    "    i = 0\n",
    "    while not (current_value > 0 and current_value - prev_value < 0.1):\n",
    "        i += 1\n",
    "        whole_grad = grad_partition_value(whole_stat[0], whole_stat[1], whole_stat[2], whole_stat[3], a, b, g)\n",
    "        grad = grad_partition_value(gt_stat[0], gt_stat[1], gt_stat[2], gt_stat[3], a, b, g)\n",
    "        some_grad = np.array(grad) - np.array(whole_grad)\n",
    "        a_tmp = a + lr * some_grad[0]\n",
    "        b_tmp = b + lr * some_grad[1]\n",
    "        g_tmp = g + lr * some_grad[2]\n",
    "        \n",
    "        j = 0\n",
    "        while not (a_tmp >= 0 and b_tmp >= 0 and g_tmp >=1 and partition_value(gt_stat[0], gt_stat[1], gt_stat[2], gt_stat[3], a_tmp, b_tmp, g_tmp) > 0.5):\n",
    "            lr = learning_rate * back_track\n",
    "            a_tmp = a + lr * some_grad[0]\n",
    "            b_tmp = b + lr * some_grad[1]\n",
    "            g_tmp = g + lr * some_grad[2]\n",
    "            j += 1\n",
    "            if j > 100:\n",
    "                print('fail vkl')\n",
    "                return\n",
    "        a = a_tmp\n",
    "        b = b_tmp\n",
    "        g = g_tmp\n",
    "        \n",
    "        \n",
    "        prev_value = current_value\n",
    "        whole_value = partition_value(whole_stat[0], whole_stat[1], whole_stat[2], whole_stat[3], a, b, g)\n",
    "        partition_value(gt_stat[0], gt_stat[1], gt_stat[2], gt_stat[3], a, b, g)\n",
    "        current_value = value - whole_value\n",
    "        \n",
    "        if i > 1000:\n",
    "            break\n",
    "    print(i)\n",
    "    print(a, b, g)"
   ]
  },
  {
   "cell_type": "code",
   "execution_count": 128,
   "metadata": {},
   "outputs": [
    {
     "name": "stdout",
     "output_type": "stream",
     "text": [
      "1\n",
      "0.9912384945556407 0.9331450478739075 1.7871100014890133\n",
      "0.026973724365234375\n"
     ]
    }
   ],
   "source": [
    "import time\n",
    "start_time = time.time()\n",
    "finding_nemo(test_data)\n",
    "print(time.time() - start_time)"
   ]
  },
  {
   "cell_type": "code",
   "execution_count": null,
   "metadata": {},
   "outputs": [],
   "source": []
  },
  {
   "cell_type": "code",
   "execution_count": null,
   "metadata": {},
   "outputs": [],
   "source": []
  },
  {
   "cell_type": "code",
   "execution_count": null,
   "metadata": {},
   "outputs": [],
   "source": []
  },
  {
   "cell_type": "code",
   "execution_count": null,
   "metadata": {},
   "outputs": [],
   "source": []
  },
  {
   "cell_type": "code",
   "execution_count": null,
   "metadata": {},
   "outputs": [],
   "source": []
  },
  {
   "cell_type": "code",
   "execution_count": null,
   "metadata": {},
   "outputs": [],
   "source": []
  },
  {
   "cell_type": "code",
   "execution_count": 19,
   "metadata": {},
   "outputs": [],
   "source": [
    "stat = return_all_statistic(test_data)"
   ]
  },
  {
   "cell_type": "code",
   "execution_count": 43,
   "metadata": {},
   "outputs": [
    {
     "name": "stdout",
     "output_type": "stream",
     "text": [
      "0.6221314201405056\n",
      "(-0.035451234077685134, -0.14020989994902108, 0.31722971661065313)\n",
      "0.0019974708557128906\n"
     ]
    }
   ],
   "source": [
    "import time\n",
    "start_time = time.time()\n",
    "value = partition_value(stat[0], stat[1], stat[2], stat[3], 0.097, 0.086, 1.731)\n",
    "grad = grad_partition_value(stat[0], stat[1], stat[2], stat[3], 0.1, 0.1, 1.7)\n",
    "print(value)\n",
    "print(grad)\n",
    "print(time.time() - start_time)"
   ]
  },
  {
   "cell_type": "code",
   "execution_count": 23,
   "metadata": {},
   "outputs": [
    {
     "data": {
      "text/plain": [
       "-0.14898868543687402"
      ]
     },
     "execution_count": 23,
     "metadata": {},
     "output_type": "execute_result"
    }
   ],
   "source": [
    "np.sum(grad) / 123"
   ]
  },
  {
   "cell_type": "code",
   "execution_count": 90,
   "metadata": {},
   "outputs": [
    {
     "data": {
      "text/plain": [
       "5"
      ]
     },
     "execution_count": 90,
     "metadata": {},
     "output_type": "execute_result"
    }
   ],
   "source": [
    "stat[1][2]"
   ]
  },
  {
   "cell_type": "code",
   "execution_count": 39,
   "metadata": {},
   "outputs": [
    {
     "data": {
      "text/plain": [
       "array([ 3.00000000e+00, -2.22044605e-16,  1.00000000e+00])"
      ]
     },
     "execution_count": 39,
     "metadata": {},
     "output_type": "execute_result"
    }
   ],
   "source": [
    "from numpy import linalg as LA\n",
    "w, v = LA.eig(np.array(\n",
    "    [[2, -1, -1], \n",
    "     [-1, 1, 0],\n",
    "     [-1, 0, 1]]))\n",
    "w"
   ]
  },
  {
   "cell_type": "code",
   "execution_count": 105,
   "metadata": {},
   "outputs": [
    {
     "data": {
      "text/plain": [
       "array([2., 0., 1., 1., 1.])"
      ]
     },
     "execution_count": 105,
     "metadata": {},
     "output_type": "execute_result"
    }
   ],
   "source": [
    "w, v = LA.eig(np.array(\n",
    "    [[1, -1/2, -1/2, -1/2, -1/2], \n",
    "     [-1/2, 1, 0, 0, 0],\n",
    "     [-1/2, 0, 1, 0, 0],\n",
    "     [-1/2, 0, 0, 1, 0],\n",
    "     [-1/2, 0, 0, 0, 1]]))\n",
    "w"
   ]
  },
  {
   "cell_type": "code",
   "execution_count": 106,
   "metadata": {},
   "outputs": [
    {
     "data": {
      "text/plain": [
       "array([ 1.50000000e+00, -5.55111512e-17,  1.50000000e+00])"
      ]
     },
     "execution_count": 106,
     "metadata": {},
     "output_type": "execute_result"
    }
   ],
   "source": [
    "w, v = LA.eig(np.array(\n",
    "    [[1, -1/2, -1/2], \n",
    "     [-1/2, 1, -1/2],\n",
    "     [-1/2, -1/2, 1]]))\n",
    "w"
   ]
  },
  {
   "cell_type": "code",
   "execution_count": 118,
   "metadata": {},
   "outputs": [
    {
     "data": {
      "text/plain": [
       "array([ 2.00000959e+00, -9.59013795e-06,  1.00000000e+00])"
      ]
     },
     "execution_count": 118,
     "metadata": {},
     "output_type": "execute_result"
    }
   ],
   "source": [
    "w, v = LA.eig(np.array(\n",
    "    [[1, -1/1.4142, -1/1.4142], \n",
    "     [-1/1.4142, 1, 0],\n",
    "     [-1/1.4142, 0, 1]]))\n",
    "w"
   ]
  },
  {
   "cell_type": "code",
   "execution_count": 117,
   "metadata": {},
   "outputs": [
    {
     "data": {
      "text/plain": [
       "1.9999616399999998"
      ]
     },
     "execution_count": 117,
     "metadata": {},
     "output_type": "execute_result"
    }
   ],
   "source": [
    "1.4142**2"
   ]
  },
  {
   "cell_type": "code",
   "execution_count": null,
   "metadata": {},
   "outputs": [],
   "source": []
  },
  {
   "cell_type": "code",
   "execution_count": null,
   "metadata": {},
   "outputs": [],
   "source": []
  },
  {
   "cell_type": "code",
   "execution_count": null,
   "metadata": {},
   "outputs": [],
   "source": []
  },
  {
   "cell_type": "code",
   "execution_count": null,
   "metadata": {},
   "outputs": [],
   "source": []
  },
  {
   "cell_type": "code",
   "execution_count": null,
   "metadata": {},
   "outputs": [],
   "source": []
  },
  {
   "cell_type": "code",
   "execution_count": null,
   "metadata": {},
   "outputs": [],
   "source": []
  },
  {
   "cell_type": "code",
   "execution_count": null,
   "metadata": {},
   "outputs": [],
   "source": []
  },
  {
   "cell_type": "code",
   "execution_count": null,
   "metadata": {},
   "outputs": [],
   "source": [
    "# import random\n",
    "# def generate_partition(ground_truth_partition): #create a path from ground truth partition to root\n",
    "#     current_length = len(ground_truth_partition)\n",
    "#     prev_partition = ground_truth_partition\n",
    "#     result = []\n",
    "#     for i in range(len(ground_truth_partition)-1):\n",
    "#         new_thread = prev_partition[0]\n",
    "#         for link in prev_partition[1]:\n",
    "#             new_thread.append(link)\n",
    "            \n",
    "#         new_partition = []\n",
    "#         new_partition.append(new_thread)\n",
    "#         for thread in prev_partition[2:]:\n",
    "#             new_partition.append(thread)\n",
    "        \n",
    "        \n",
    "#         prev_partition = new_partition\n",
    "#         current_length -= 1\n",
    "        \n",
    "#         result.append(new_partition)\n",
    "#     return result"
   ]
  }
 ],
 "metadata": {
  "kernelspec": {
   "display_name": "Python 3",
   "language": "python",
   "name": "python3"
  },
  "language_info": {
   "codemirror_mode": {
    "name": "ipython",
    "version": 3
   },
   "file_extension": ".py",
   "mimetype": "text/x-python",
   "name": "python",
   "nbconvert_exporter": "python",
   "pygments_lexer": "ipython3",
   "version": "3.7.1"
  }
 },
 "nbformat": 4,
 "nbformat_minor": 2
}
